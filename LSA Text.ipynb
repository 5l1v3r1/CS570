{
 "metadata": {
  "name": "",
  "signature": "sha256:f5c9a64dcad3c7467f15b2b41c1b481d248afdd96f2d036d67c38d7a20590a43"
 },
 "nbformat": 3,
 "nbformat_minor": 0,
 "worksheets": [
  {
   "cells": [
    {
     "cell_type": "markdown",
     "metadata": {},
     "source": [
      "## Latent Semantic Analysis\n",
      "\n",
      "In this notebook we're going to look at how we can 'mine' concepts from a corpus (collection) of text documents.\n",
      "\n",
      "In the first week of class everyone wrote their own definition of data science.   This week I'm going to show you how to extract 'concepts' from that corpus mathematically.  The techinque we're going to use is called latent semantic analysis.  "
     ]
    },
    {
     "cell_type": "code",
     "collapsed": false,
     "input": [
      "from BeautifulSoup import BeautifulSoup\n",
      "import nltk\n",
      "from nltk.corpus import stopwords\n",
      "from sklearn.feature_extraction.text import TfidfVectorizer\n",
      "from sklearn.decomposition import TruncatedSVD"
     ],
     "language": "python",
     "metadata": {},
     "outputs": [],
     "prompt_number": 196
    },
    {
     "cell_type": "markdown",
     "metadata": {},
     "source": [
      "I exported the forum posts for module 0 into an XML file.  Each post is wrapped in <text></text> tags.   I'll use BeautifulSoup to process the XML"
     ]
    },
    {
     "cell_type": "code",
     "collapsed": false,
     "input": [
      "posts = open('raw_forum_posts.dat', 'rw').read()"
     ],
     "language": "python",
     "metadata": {},
     "outputs": [],
     "prompt_number": 219
    },
    {
     "cell_type": "code",
     "collapsed": false,
     "input": [
      "soup = BeautifulSoup(posts)\n",
      "postTxt = soup.findAll('text')  #all posts <text> \n",
      "postDocs = [x.text for x in postTxt]\n",
      "postDocs.pop(0)\n",
      "postDocs = [x.lower() for x in postDocs]"
     ],
     "language": "python",
     "metadata": {},
     "outputs": [],
     "prompt_number": 220
    },
    {
     "cell_type": "markdown",
     "metadata": {},
     "source": [
      "Stopwords are words that I don't want to convert to featurs,becuase they aren't especially useful.  Words like 'a', 'and', and 'the' are good stopwords in english.   I can use a built in list of stopwords from nltk to get me started.  Then, I'll add some custom stopwords that are 'html junk' that I need to clean out of my data."
     ]
    },
    {
     "cell_type": "code",
     "collapsed": false,
     "input": [
      "stopset = set(stopwords.words('english'))\n",
      "stopset.update(['lt','p','/p','br','amp','quot','field','font','normal','span','0px','rgb','style','51', \n",
      "                'spacing','text','helvetica','size','family', 'space', 'arial', 'height', 'indent', 'letter'\n",
      "                'line','none','sans','serif','transform','line','variant','weight','times', 'new','strong', 'video', 'title'\n",
      "                'white','word','letter', 'roman','0pt','16','color','12','14','21', 'neue', 'apple', 'class',  ])\n"
     ],
     "language": "python",
     "metadata": {},
     "outputs": [],
     "prompt_number": 199
    },
    {
     "cell_type": "markdown",
     "metadata": {},
     "source": [
      "### TF-IDF Vectorizing\n",
      "\n",
      "I'm going to use scikit-learn's TF-IDF vectorizer to take my corpus and convert each document into a sparse matrix of TFIDF Features..."
     ]
    },
    {
     "cell_type": "code",
     "collapsed": false,
     "input": [
      "#Before!\n",
      "postDocs[0]"
     ],
     "language": "python",
     "metadata": {},
     "outputs": [
      {
       "metadata": {},
       "output_type": "pyout",
       "prompt_number": 208,
       "text": [
        "u'&lt;p>data science is about analyzing relevant data to obtain patterns of information in order to help achieve a goal. the main focus of the data analysis is the goal rather then the methodology on how it will achieved. this allows for creative thinking and allowing for the optimal solution or model to be found wihtout the constraint of a specific methodology.&lt;/p>'"
       ]
      }
     ],
     "prompt_number": 208
    },
    {
     "cell_type": "code",
     "collapsed": false,
     "input": [
      "vectorizer = TfidfVectorizer(stop_words=stopset,\n",
      "                                 use_idf=True, ngram_range=(1, 3))\n",
      "X = vectorizer.fit_transform(postDocs)"
     ],
     "language": "python",
     "metadata": {},
     "outputs": [],
     "prompt_number": 221
    },
    {
     "cell_type": "code",
     "collapsed": false,
     "input": [
      "X[0]"
     ],
     "language": "python",
     "metadata": {},
     "outputs": [
      {
       "metadata": {},
       "output_type": "pyout",
       "prompt_number": 222,
       "text": [
        "<1x3393 sparse matrix of type '<type 'numpy.float64'>'\n",
        "\twith 89 stored elements in Compressed Sparse Row format>"
       ]
      }
     ],
     "prompt_number": 222
    },
    {
     "cell_type": "code",
     "collapsed": false,
     "input": [
      "#After\n",
      "print X[0]"
     ],
     "language": "python",
     "metadata": {},
     "outputs": [
      {
       "output_type": "stream",
       "stream": "stdout",
       "text": [
        "  (0, 558)\t0.10905143902\n",
        "  (0, 3327)\t0.10905143902\n",
        "  (0, 1301)\t0.10905143902\n",
        "  (0, 1954)\t0.10905143902\n",
        "  (0, 2761)\t0.10905143902\n",
        "  (0, 2083)\t0.10905143902\n",
        "  (0, 107)\t0.10905143902\n",
        "  (0, 2983)\t0.10905143902\n",
        "  (0, 625)\t0.10905143902\n",
        "  (0, 110)\t0.10905143902\n",
        "  (0, 54)\t0.10905143902\n",
        "  (0, 1920)\t0.10905143902\n",
        "  (0, 2383)\t0.10905143902\n",
        "  (0, 1395)\t0.10905143902\n",
        "  (0, 147)\t0.10905143902\n",
        "  (0, 655)\t0.10905143902\n",
        "  (0, 1265)\t0.10905143902\n",
        "  (0, 1819)\t0.10905143902\n",
        "  (0, 1391)\t0.10905143902\n",
        "  (0, 49)\t0.10905143902\n",
        "  (0, 1477)\t0.10905143902\n",
        "  (0, 2093)\t0.10905143902\n",
        "  (0, 1603)\t0.10905143902\n",
        "  (0, 2160)\t0.10905143902\n",
        "  (0, 2044)\t0.10905143902\n",
        "  :\t:\n",
        "  (0, 1295)\t0.0882799340268\n",
        "  (0, 1946)\t0.0761293825223\n",
        "  (0, 2757)\t0.0969008875155\n",
        "  (0, 2081)\t0.10905143902\n",
        "  (0, 105)\t0.10905143902\n",
        "  (0, 2981)\t0.0969008875155\n",
        "  (0, 623)\t0.0969008875155\n",
        "  (0, 108)\t0.10905143902\n",
        "  (0, 52)\t0.10905143902\n",
        "  (0, 1918)\t0.21810287804\n",
        "  (0, 2381)\t0.10905143902\n",
        "  (0, 143)\t0.071509957232\n",
        "  (0, 1261)\t0.0882799340268\n",
        "  (0, 1817)\t0.10905143902\n",
        "  (0, 1389)\t0.176559868054\n",
        "  (0, 47)\t0.0969008875155\n",
        "  (0, 1475)\t0.0761293825223\n",
        "  (0, 2087)\t0.0761293825223\n",
        "  (0, 1591)\t0.0529592419308\n",
        "  (0, 2156)\t0.0969008875155\n",
        "  (0, 2042)\t0.10905143902\n",
        "  (0, 2416)\t0.0882799340268\n",
        "  (0, 160)\t0.0675084290336\n",
        "  (0, 2487)\t0.0310567745199\n",
        "  (0, 647)\t0.0899008417366\n"
       ]
      }
     ],
     "prompt_number": 210
    },
    {
     "cell_type": "markdown",
     "metadata": {},
     "source": [
      "###LSA\n",
      "\n",
      "Input:  X, a matrix where m is the number of documents I have, and n is the number of terms.\n",
      "\n",
      "Process:   I'm going to decompose X into three matricies called U, S, and T.  When we do the decomposition, we have to pick a value k, that's how many concepts we are going to keep.  \n",
      "\n",
      "$$X \\approx USV^{T}$$\n",
      "\n",
      "U will be a m x k matrix.  The rows will be documents and the columns will be 'concepts'\n",
      "\n",
      "S will be a k x k diagnal matrix.   The elements will be the amount of variation captured from each concept.\n",
      "\n",
      "V will be a m x k (mind the transpose) matrix.   The rows will be terms and the columns will be conepts.  "
     ]
    },
    {
     "cell_type": "code",
     "collapsed": false,
     "input": [
      "X.shape"
     ],
     "language": "python",
     "metadata": {},
     "outputs": [
      {
       "metadata": {},
       "output_type": "pyout",
       "prompt_number": 212,
       "text": [
        "(27, 3393)"
       ]
      }
     ],
     "prompt_number": 212
    },
    {
     "cell_type": "code",
     "collapsed": false,
     "input": [
      "lsa = TruncatedSVD(n_components=10, n_iter=100)\n",
      "lsa.fit(X)\n",
      "\n"
     ],
     "language": "python",
     "metadata": {},
     "outputs": [
      {
       "metadata": {},
       "output_type": "pyout",
       "prompt_number": 216,
       "text": [
        "TruncatedSVD(algorithm='randomized', n_components=10, n_iter=100,\n",
        "       random_state=None, tol=0.0)"
       ]
      }
     ],
     "prompt_number": 216
    },
    {
     "cell_type": "code",
     "collapsed": false,
     "input": [
      "#This is the first row for V\n",
      "lsa.components_[0]"
     ],
     "language": "python",
     "metadata": {},
     "outputs": [
      {
       "metadata": {},
       "output_type": "pyout",
       "prompt_number": 218,
       "text": [
        "array([ 0.00523146,  0.00523146,  0.00523146, ...,  0.00431593,\n",
        "        0.00431593,  0.00431593])"
       ]
      }
     ],
     "prompt_number": 218
    },
    {
     "cell_type": "code",
     "collapsed": false,
     "input": [
      "terms = vectorizer.get_feature_names()\n",
      "for i, comp in enumerate(lsa.components_): \n",
      "    termsInComp = zip (terms,comp)\n",
      "    sortedTerms =  sorted(termsInComp, key=lambda x: x[1], reverse=True) [:10]\n",
      "    print \"Concept %d:\" % i\n",
      "    for term in sortedTerms:\n",
      "        print term[0]\n",
      "    print \" \""
     ],
     "language": "python",
     "metadata": {},
     "outputs": [
      {
       "output_type": "stream",
       "stream": "stdout",
       "text": [
        "Concept 0:\n",
        "data\n",
        "procedures\n",
        "large amounts\n",
        "large amounts data\n",
        "science\n",
        "amounts\n",
        "amounts data\n",
        "different\n",
        "could\n",
        "large\n",
        " \n",
        "Concept 1:\n",
        "data\n",
        "science\n",
        "data science\n",
        "make\n",
        "white\n",
        "answer\n",
        "decisions\n",
        "using\n",
        "questions\n",
        "finding\n",
        " \n",
        "Concept 2:\n",
        "white\n",
        "business\n",
        "data scientist\n",
        "scientist\n",
        "competitive edge\n",
        "edge\n",
        "especially\n",
        "many\n",
        "perspective\n",
        "way\n",
        " \n",
        "Concept 3:\n",
        "answer\n",
        "part\n",
        "white\n",
        "relevant\n",
        "relevant data\n",
        "art\n",
        "finding\n",
        "part involves\n",
        "science part\n",
        "statistically\n",
        " \n",
        "Concept 4:\n",
        "white\n",
        "companies\n",
        "converted\n",
        "according\n",
        "competitive\n",
        "skills\n",
        "name\n",
        "make\n",
        "building\n",
        "hello\n",
        " \n",
        "Concept 5:\n",
        "questions\n",
        "answer\n",
        "make\n",
        "canada\n",
        "contacts\n",
        "get\n",
        "greater\n",
        "humanity\n",
        "many\n",
        "asked\n",
        " \n",
        "Concept 6:\n",
        "questions\n",
        "days\n",
        "order\n",
        "scientist\n",
        "data scientist\n",
        "research\n",
        "use\n",
        "know\n",
        "technologies\n",
        "answer\n",
        " \n",
        "Concept 7:\n",
        "child\n",
        "collect\n",
        "lego\n",
        "provide\n",
        "experience\n",
        "future\n",
        "collect data\n",
        "data sets\n",
        "feedback\n",
        "noted\n",
        " \n",
        "Concept 8:\n",
        "predict\n",
        "make\n",
        "white\n",
        "videos\n",
        "order\n",
        "ability explain\n",
        "accessing\n",
        "explain\n",
        "explain understand\n",
        "explain understand predict\n",
        " \n",
        "Concept 9:\n",
        "data science\n",
        "dig\n",
        "white\n",
        "archaeology\n",
        "history\n",
        "efficient\n",
        "business\n",
        "patterns\n",
        "read\n",
        "scientist\n",
        " \n"
       ]
      }
     ],
     "prompt_number": 223
    },
    {
     "cell_type": "code",
     "collapsed": false,
     "input": [
      "big data!\n",
      "data science\n",
      "person that practices data science  - competitive edge\n",
      "relevant data\n",
      "research answer technologies  \n",
      "explain understand and predict"
     ],
     "language": "python",
     "metadata": {},
     "outputs": [],
     "prompt_number": 202
    }
   ],
   "metadata": {}
  }
 ]
}