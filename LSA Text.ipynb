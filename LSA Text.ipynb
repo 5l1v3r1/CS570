{
 "cells": [
  {
   "cell_type": "markdown",
   "metadata": {},
   "source": [
    "## Latent Semantic Analysis\n",
    "\n",
    "In this notebook we're going to look at how we can 'mine' concepts from a corpus (collection) of text documents.\n",
    "\n",
    "In the first week of class everyone wrote their own definition of data science.   This week I'm going to show you how to extract 'concepts' from that corpus mathematically.  The techinque we're going to use is called latent semantic analysis.  "
   ]
  },
  {
   "cell_type": "code",
   "execution_count": 1,
   "metadata": {
    "collapsed": false
   },
   "outputs": [],
   "source": [
    "from bs4 import BeautifulSoup\n",
    "import nltk\n",
    "from nltk.corpus import stopwords\n",
    "from sklearn.feature_extraction.text import TfidfVectorizer\n",
    "from sklearn.decomposition import TruncatedSVD"
   ]
  },
  {
   "cell_type": "code",
   "execution_count": 2,
   "metadata": {
    "collapsed": false
   },
   "outputs": [
    {
     "name": "stdout",
     "output_type": "stream",
     "text": [
      "[nltk_data] Downloading package stopwords to /home/mike/nltk_data...\n",
      "[nltk_data]   Package stopwords is already up-to-date!\n"
     ]
    },
    {
     "data": {
      "text/plain": [
       "True"
      ]
     },
     "execution_count": 2,
     "metadata": {},
     "output_type": "execute_result"
    }
   ],
   "source": [
    "#run this only once\n",
    "nltk.download('stopwords')"
   ]
  },
  {
   "cell_type": "markdown",
   "metadata": {},
   "source": [
    "I exported the forum posts for module 0 into an XML file.  Each post is wrapped in <text></text> tags.   I'll use BeautifulSoup to process the XML"
   ]
  },
  {
   "cell_type": "code",
   "execution_count": 3,
   "metadata": {
    "collapsed": false
   },
   "outputs": [],
   "source": [
    "posts = open('raw_forum_posts.dat', 'r').read()"
   ]
  },
  {
   "cell_type": "code",
   "execution_count": 4,
   "metadata": {
    "collapsed": false
   },
   "outputs": [],
   "source": [
    "soup = BeautifulSoup(posts)\n",
    "postTxt = soup.findAll('text')  #all posts <text> \n",
    "postDocs = [x.text for x in postTxt]\n",
    "postDocs.pop(0)\n",
    "postDocs = [x.lower() for x in postDocs]"
   ]
  },
  {
   "cell_type": "markdown",
   "metadata": {},
   "source": [
    "Stopwords are words that I don't want to convert to featurs,becuase they aren't especially useful.  Words like 'a', 'and', and 'the' are good stopwords in english.   I can use a built in list of stopwords from nltk to get me started.  Then, I'll add some custom stopwords that are 'html junk' that I need to clean out of my data."
   ]
  },
  {
   "cell_type": "code",
   "execution_count": 5,
   "metadata": {
    "collapsed": false
   },
   "outputs": [],
   "source": [
    "stopset = set(stopwords.words('english'))\n",
    "stopset.update(['lt','p','/p','br','amp','quot','field','font','normal','span','0px','rgb','style','51', \n",
    "                'spacing','text','helvetica','size','family', 'space', 'arial', 'height', 'indent', 'letter'\n",
    "                'line','none','sans','serif','transform','line','variant','weight','times', 'new','strong', 'video', 'title'\n",
    "                'white','word','letter', 'roman','0pt','16','color','12','14','21', 'neue', 'apple', 'class',  ])\n"
   ]
  },
  {
   "cell_type": "markdown",
   "metadata": {},
   "source": [
    "### TF-IDF Vectorizing\n",
    "\n",
    "I'm going to use scikit-learn's TF-IDF vectorizer to take my corpus and convert each document into a sparse matrix of TFIDF Features..."
   ]
  },
  {
   "cell_type": "code",
   "execution_count": 6,
   "metadata": {
    "collapsed": false
   },
   "outputs": [
    {
     "data": {
      "text/plain": [
       "u'<p>data science is about analyzing relevant data to obtain patterns of information in order to help achieve a goal. the main focus of the data analysis is the goal rather then the methodology on how it will achieved. this allows for creative thinking and allowing for the optimal solution or model to be found wihtout the constraint of a specific methodology.</p>'"
      ]
     },
     "execution_count": 6,
     "metadata": {},
     "output_type": "execute_result"
    }
   ],
   "source": [
    "#Before!\n",
    "postDocs[0]"
   ]
  },
  {
   "cell_type": "code",
   "execution_count": 7,
   "metadata": {
    "collapsed": false
   },
   "outputs": [],
   "source": [
    "vectorizer = TfidfVectorizer(stop_words=stopset,\n",
    "                                 use_idf=True, ngram_range=(1, 3))\n",
    "X = vectorizer.fit_transform(postDocs)"
   ]
  },
  {
   "cell_type": "code",
   "execution_count": 8,
   "metadata": {
    "collapsed": false
   },
   "outputs": [
    {
     "data": {
      "text/plain": [
       "<1x3390 sparse matrix of type '<type 'numpy.float64'>'\n",
       "\twith 89 stored elements in Compressed Sparse Row format>"
      ]
     },
     "execution_count": 8,
     "metadata": {},
     "output_type": "execute_result"
    }
   ],
   "source": [
    "X[0]"
   ]
  },
  {
   "cell_type": "code",
   "execution_count": 9,
   "metadata": {
    "collapsed": false
   },
   "outputs": [
    {
     "name": "stdout",
     "output_type": "stream",
     "text": [
      "  (0, 558)\t0.10905143902\n",
      "  (0, 3324)\t0.10905143902\n",
      "  (0, 1301)\t0.10905143902\n",
      "  (0, 1951)\t0.10905143902\n",
      "  (0, 2758)\t0.10905143902\n",
      "  (0, 2080)\t0.10905143902\n",
      "  (0, 107)\t0.10905143902\n",
      "  (0, 2980)\t0.10905143902\n",
      "  (0, 625)\t0.10905143902\n",
      "  (0, 110)\t0.10905143902\n",
      "  (0, 54)\t0.10905143902\n",
      "  (0, 1917)\t0.10905143902\n",
      "  (0, 2380)\t0.10905143902\n",
      "  (0, 1395)\t0.10905143902\n",
      "  (0, 147)\t0.10905143902\n",
      "  (0, 655)\t0.10905143902\n",
      "  (0, 1265)\t0.10905143902\n",
      "  (0, 1816)\t0.10905143902\n",
      "  (0, 1391)\t0.10905143902\n",
      "  (0, 49)\t0.10905143902\n",
      "  (0, 1474)\t0.10905143902\n",
      "  (0, 2090)\t0.10905143902\n",
      "  (0, 1600)\t0.10905143902\n",
      "  (0, 2157)\t0.10905143902\n",
      "  (0, 2041)\t0.10905143902\n",
      "  :\t:\n",
      "  (0, 1295)\t0.0882799340268\n",
      "  (0, 1943)\t0.0761293825223\n",
      "  (0, 2754)\t0.0969008875155\n",
      "  (0, 2078)\t0.10905143902\n",
      "  (0, 105)\t0.10905143902\n",
      "  (0, 2978)\t0.0969008875155\n",
      "  (0, 623)\t0.0969008875155\n",
      "  (0, 108)\t0.10905143902\n",
      "  (0, 52)\t0.10905143902\n",
      "  (0, 1915)\t0.21810287804\n",
      "  (0, 2378)\t0.10905143902\n",
      "  (0, 143)\t0.071509957232\n",
      "  (0, 1261)\t0.0882799340268\n",
      "  (0, 1814)\t0.10905143902\n",
      "  (0, 1389)\t0.176559868054\n",
      "  (0, 47)\t0.0969008875155\n",
      "  (0, 1472)\t0.0761293825223\n",
      "  (0, 2084)\t0.0761293825223\n",
      "  (0, 1588)\t0.0529592419308\n",
      "  (0, 2153)\t0.0969008875155\n",
      "  (0, 2039)\t0.10905143902\n",
      "  (0, 2413)\t0.0882799340268\n",
      "  (0, 160)\t0.0675084290336\n",
      "  (0, 2484)\t0.0310567745199\n",
      "  (0, 647)\t0.0899008417366\n"
     ]
    }
   ],
   "source": [
    "#After\n",
    "print X[0]"
   ]
  },
  {
   "cell_type": "markdown",
   "metadata": {},
   "source": [
    "###LSA\n",
    "\n",
    "Input:  X, a matrix where m is the number of documents I have, and n is the number of terms.\n",
    "\n",
    "Process:   I'm going to decompose X into three matricies called U, S, and T.  When we do the decomposition, we have to pick a value k, that's how many concepts we are going to keep.  \n",
    "\n",
    "$$X \\approx USV^{T}$$\n",
    "\n",
    "U will be a m x k matrix.  The rows will be documents and the columns will be 'concepts'\n",
    "\n",
    "S will be a k x k diagnal matrix.   The elements will be the amount of variation captured from each concept.\n",
    "\n",
    "V will be a n x k (mind the transpose) matrix.   The rows will be terms and the columns will be conepts.  "
   ]
  },
  {
   "cell_type": "code",
   "execution_count": 10,
   "metadata": {
    "collapsed": false
   },
   "outputs": [
    {
     "data": {
      "text/plain": [
       "(27, 3390)"
      ]
     },
     "execution_count": 10,
     "metadata": {},
     "output_type": "execute_result"
    }
   ],
   "source": [
    "X.shape"
   ]
  },
  {
   "cell_type": "code",
   "execution_count": 11,
   "metadata": {
    "collapsed": false
   },
   "outputs": [
    {
     "data": {
      "text/plain": [
       "TruncatedSVD(algorithm='randomized', n_components=27, n_iter=100,\n",
       "       random_state=None, tol=0.0)"
      ]
     },
     "execution_count": 11,
     "metadata": {},
     "output_type": "execute_result"
    }
   ],
   "source": [
    "lsa = TruncatedSVD(n_components=27, n_iter=100)\n",
    "lsa.fit(X)\n",
    "\n"
   ]
  },
  {
   "cell_type": "code",
   "execution_count": 12,
   "metadata": {
    "collapsed": false
   },
   "outputs": [
    {
     "data": {
      "text/plain": [
       "array([ 0.00523425,  0.00523425,  0.00523425, ...,  0.00431874,\n",
       "        0.00431874,  0.00431874])"
      ]
     },
     "execution_count": 12,
     "metadata": {},
     "output_type": "execute_result"
    }
   ],
   "source": [
    "#This is the first row for V\n",
    "lsa.components_[0]"
   ]
  },
  {
   "cell_type": "code",
   "execution_count": 13,
   "metadata": {
    "collapsed": false
   },
   "outputs": [
    {
     "name": "stdout",
     "output_type": "stream",
     "text": [
      "2.7.9 |Anaconda 2.1.0 (64-bit)| (default, Dec 15 2014, 10:33:51) \n",
      "[GCC 4.4.7 20120313 (Red Hat 4.4.7-1)]\n"
     ]
    }
   ],
   "source": [
    "import sys\n",
    "print (sys.version)"
   ]
  },
  {
   "cell_type": "code",
   "execution_count": 14,
   "metadata": {
    "collapsed": false
   },
   "outputs": [
    {
     "name": "stdout",
     "output_type": "stream",
     "text": [
      "Concept 0:\n",
      "data\n",
      "procedures\n",
      "large amounts\n",
      "large amounts data\n",
      "science\n",
      "amounts\n",
      "amounts data\n",
      "different\n",
      "could\n",
      "large\n",
      " \n",
      "Concept 1:\n",
      "data\n",
      "science\n",
      "data science\n",
      "make\n",
      "white\n",
      "answer\n",
      "decisions\n",
      "using\n",
      "questions\n",
      "finding\n",
      " \n",
      "Concept 2:\n",
      "white\n",
      "converted\n",
      "white converted\n",
      "white white\n",
      "information\n",
      "big\n",
      "big data\n",
      "20\n",
      "20 white ata\n",
      "47\n",
      " \n",
      "Concept 3:\n",
      "make\n",
      "decisions\n",
      "better\n",
      "good\n",
      "use data\n",
      "use\n",
      "make better\n",
      "better decisions\n",
      "make better decisions\n",
      "knowledge\n",
      " \n",
      "Concept 4:\n",
      "business\n",
      "help\n",
      "ultimately\n",
      "data help\n",
      "scientist\n",
      "fields\n",
      "competitive edge\n",
      "edge\n",
      "especially\n",
      "methods\n",
      " \n",
      "Concept 5:\n",
      "answer\n",
      "part\n",
      "finding\n",
      "art\n",
      "relevant\n",
      "relevant data\n",
      "problem\n",
      "business\n",
      "using\n",
      "methods\n",
      " \n",
      "Concept 6:\n",
      "answer\n",
      "good\n",
      "questions\n",
      "using\n",
      "decisions\n",
      "canada\n",
      "contacts\n",
      "practices\n",
      "much\n",
      "art\n",
      " \n",
      "Concept 7:\n",
      "statistics\n",
      "answers\n",
      "questions\n",
      "gaining\n",
      "information\n",
      "science\n",
      "days\n",
      "everyone\n",
      "hello everyone\n",
      "hello\n",
      " \n",
      "Concept 8:\n",
      "people\n",
      "predict\n",
      "define\n",
      "learn data\n",
      "learn data science\n",
      "concept\n",
      "concept data\n",
      "concept data science\n",
      "find\n",
      "problems\n",
      " \n",
      "Concept 9:\n",
      "greater\n",
      "humanity\n",
      "ultimately\n",
      "techniques\n",
      "faster\n",
      "increase data\n",
      "using\n",
      "problems\n",
      "answer\n",
      "get\n",
      " \n",
      "Concept 10:\n",
      "may\n",
      "methods\n",
      "cleaning\n",
      "child\n",
      "collect\n",
      "lego\n",
      "different\n",
      "thanks\n",
      "provide\n",
      "forward\n",
      " \n",
      "Concept 11:\n",
      "dig\n",
      "archaeology\n",
      "history\n",
      "part\n",
      "trying\n",
      "find\n",
      "tools\n",
      "computer\n",
      "organization\n",
      "whether\n",
      " \n",
      "Concept 12:\n",
      "questions\n",
      "could\n",
      "make\n",
      "data order\n",
      "canada\n",
      "contacts\n",
      "answers\n",
      "better\n",
      "hi\n",
      "hello\n",
      " \n",
      "Concept 13:\n",
      "gained\n",
      "understanding\n",
      "complex\n",
      "business\n",
      "questions\n",
      "insights\n",
      "learn\n",
      "improve\n",
      "answers\n",
      "machine\n",
      " \n",
      "Concept 14:\n",
      "questions\n",
      "scientist\n",
      "find\n",
      "analyzing\n",
      "canada\n",
      "contacts\n",
      "efficient\n",
      "could\n",
      "decisions\n",
      "use data\n",
      " \n",
      "Concept 15:\n",
      "questions\n",
      "decisions\n",
      "conclusions\n",
      "ve\n",
      "data scientist\n",
      "ultimately\n",
      "statistics data\n",
      "studies\n",
      "use statistics\n",
      "use statistics data\n",
      " \n",
      "Concept 16:\n",
      "work\n",
      "analyzing data\n",
      "answer\n",
      "business\n",
      "digital\n",
      "trends\n",
      "data scientist\n",
      "dig\n",
      "title\n",
      "amounts data help\n",
      " \n",
      "Concept 17:\n",
      "statistics\n",
      "used\n",
      "companies\n",
      "building\n",
      "every\n",
      "skills\n",
      "focused\n",
      "industry\n",
      "analysis\n",
      "substantive\n",
      " \n",
      "Concept 18:\n",
      "procedures\n",
      "information\n",
      "finding\n",
      "achieve\n",
      "solution\n",
      "methodology\n",
      "specific\n",
      "data used\n",
      "dig\n",
      "tools\n",
      " \n",
      "Concept 19:\n",
      "answer\n",
      "part\n",
      "decisions\n",
      "hello\n",
      "art\n",
      "analysis\n",
      "problem\n",
      "computing\n",
      "part involves\n",
      "science part\n",
      " \n",
      "Concept 20:\n",
      "since\n",
      "days\n",
      "methods\n",
      "scientific\n",
      "dig\n",
      "data science\n",
      "many\n",
      "perspective\n",
      "answers questions\n",
      "answers questions using\n",
      " \n",
      "Concept 21:\n",
      "different\n",
      "science\n",
      "figure\n",
      "way\n",
      "used\n",
      "white\n",
      "decisions\n",
      "get\n",
      "data scientist\n",
      "much\n",
      " \n",
      "Concept 22:\n",
      "science\n",
      "large\n",
      "goal\n",
      "make\n",
      "hello\n",
      "achieve\n",
      "solution\n",
      "different\n",
      "come\n",
      "since\n",
      " \n",
      "Concept 23:\n",
      "information\n",
      "used\n",
      "tools\n",
      "since\n",
      "relevant\n",
      "relevant data\n",
      "white\n",
      "store\n",
      "process\n",
      "useful\n",
      " \n",
      "Concept 24:\n",
      "large\n",
      "practices\n",
      "used\n",
      "figure\n",
      "large amounts\n",
      "large amounts data\n",
      "hello\n",
      "knowledge\n",
      "questions\n",
      "useful\n",
      " \n",
      "Concept 25:\n",
      "large\n",
      "analysis\n",
      "tools\n",
      "since\n",
      "make\n",
      "according\n",
      "problem\n",
      "data scientist\n",
      "analyzing\n",
      "solve\n",
      " \n",
      "Concept 26:\n",
      "amounts\n",
      "amounts data\n",
      "data\n",
      "could\n",
      "analysis\n",
      "thank\n",
      "large\n",
      "knowledge\n",
      "20\n",
      "days\n",
      " \n"
     ]
    }
   ],
   "source": [
    "terms = vectorizer.get_feature_names()\n",
    "for i, comp in enumerate(lsa.components_): \n",
    "    termsInComp = zip (terms,comp)\n",
    "    sortedTerms =  sorted(termsInComp, key=lambda x: x[1], reverse=True) [:10]\n",
    "    print \"Concept %d:\" % i\n",
    "    for term in sortedTerms:\n",
    "        print term[0]\n",
    "    print \" \""
   ]
  },
  {
   "cell_type": "code",
   "execution_count": 15,
   "metadata": {
    "collapsed": false
   },
   "outputs": [
    {
     "data": {
      "text/plain": [
       "array([[ 0.00523425,  0.00523425,  0.00523425, ...,  0.00431874,\n",
       "         0.00431874,  0.00431874],\n",
       "       [ 0.00997879,  0.0099788 ,  0.0099788 , ...,  0.00746359,\n",
       "         0.00746359,  0.00746359],\n",
       "       [ 0.05343461,  0.05274622,  0.05274622, ..., -0.00421642,\n",
       "        -0.00421642, -0.00421642],\n",
       "       ..., \n",
       "       [ 0.01367572,  0.00640647,  0.00640647, ...,  0.00482124,\n",
       "         0.00482124,  0.00482124],\n",
       "       [-0.02086219, -0.00217038, -0.00217038, ..., -0.00016045,\n",
       "        -0.00016045, -0.00016045],\n",
       "       [ 0.08823589, -0.00363022, -0.00363022, ..., -0.00160267,\n",
       "        -0.00160267, -0.00160267]])"
      ]
     },
     "execution_count": 15,
     "metadata": {},
     "output_type": "execute_result"
    }
   ],
   "source": [
    "lsa.components_"
   ]
  },
  {
   "cell_type": "code",
   "execution_count": 14,
   "metadata": {
    "collapsed": false
   },
   "outputs": [],
   "source": []
  },
  {
   "cell_type": "code",
   "execution_count": 14,
   "metadata": {
    "collapsed": false
   },
   "outputs": [],
   "source": []
  },
  {
   "cell_type": "code",
   "execution_count": null,
   "metadata": {
    "collapsed": false
   },
   "outputs": [],
   "source": []
  }
 ],
 "metadata": {
  "kernelspec": {
   "display_name": "Python 2",
   "language": "python",
   "name": "python2"
  },
  "language_info": {
   "codemirror_mode": {
    "name": "ipython",
    "version": 2
   },
   "file_extension": ".py",
   "mimetype": "text/x-python",
   "name": "python",
   "nbconvert_exporter": "python",
   "pygments_lexer": "ipython2",
   "version": "2.7.11"
  }
 },
 "nbformat": 4,
 "nbformat_minor": 0
}
